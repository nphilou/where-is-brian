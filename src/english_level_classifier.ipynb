{
 "cells": [
  {
   "cell_type": "code",
   "execution_count": 13,
   "metadata": {
    "collapsed": true
   },
   "outputs": [],
   "source": [
    "import numpy as np\n",
    "import pandas\n",
    "import scipy\n",
    "from sklearn import svm\n",
    "import matplotlib.pyplot as plt\n",
    "\n"
   ]
  },
  {
   "cell_type": "code",
   "execution_count": 14,
   "metadata": {
    "collapsed": true
   },
   "outputs": [],
   "source": [
    "english = pandas.read_csv(\"train_cap2018.csv\")"
   ]
  },
  {
   "cell_type": "code",
   "execution_count": 15,
   "metadata": {
    "collapsed": false
   },
   "outputs": [
    {
     "name": "stdout",
     "output_type": "stream",
     "text": [
      "(27310,)\n(27310, 5)\n"
     ]
    }
   ],
   "source": [
    "target = english['level1']\n",
    "target.head()\n",
    "print(target.shape)\n",
    "\n",
    "data = english.loc[:, \"sentences\":\"punct\"]\n",
    "print(data.shape)"
   ]
  },
  {
   "cell_type": "code",
   "execution_count": 16,
   "metadata": {
    "collapsed": false
   },
   "outputs": [],
   "source": [
    "fig = plt.figure()\n",
    "y = english.groupby('level1').sentences.count()\n",
    "plt.bar(y.keys(), y.values)\n",
    "plt.show()"
   ]
  },
  {
   "cell_type": "code",
   "execution_count": 17,
   "metadata": {
    "collapsed": true
   },
   "outputs": [
    {
     "data": {
      "text/plain": [
       "LinearSVC(C=1.0, class_weight=None, dual=True, fit_intercept=True,\n     intercept_scaling=1, loss='squared_hinge', max_iter=1000,\n     multi_class='ovr', penalty='l2', random_state=0, tol=0.0001,\n     verbose=0)"
      ]
     },
     "execution_count": 17,
     "metadata": {},
     "output_type": "execute_result"
    }
   ],
   "source": [
    "# clf = svm.SVC(gamma=0.001, C=100.)\n",
    "from sklearn.svm import LinearSVC\n",
    "\n",
    "clf = LinearSVC(random_state=0) \n",
    "data_cleaned = data.T.dropna().T\n",
    "\n",
    "clf.fit(data_cleaned, target)\n"
   ]
  },
  {
   "cell_type": "code",
   "execution_count": 12,
   "metadata": {
    "collapsed": false
   },
   "outputs": [
    {
     "name": "stdout",
     "output_type": "stream",
     "text": [
      "   sentences  words  letters.all  syllables  punct  avg.sentc.length  \\\n0       16.0  233.0       1116.0      363.0   32.0           14.5625   \n\n   avg.word.length  avg.syll.word  sntc.per.word       TTR    ...     \\\n0           4.7897        1.55794        0.06867  0.587983    ...      \n\n   HD-D (vocd-D)  Herdan's C  Maas a  Maas lgV0   MTLD  Root TTR  Summer  \\\n0          34.65         0.9     0.2       4.96  70.74      8.98    0.88   \n\n   TTR.1  Uber index  Yule's K  \n0   0.59        24.3    146.62  \n\n[1 rows x 56 columns]\n"
     ]
    },
    {
     "data": {
      "text/plain": [
       "array(['B2'], dtype=object)"
      ]
     },
     "execution_count": 12,
     "metadata": {},
     "output_type": "execute_result"
    }
   ],
   "source": [
    "data_cleaned.head()\n",
    "\n",
    "print(data_cleaned[:1])\n",
    "clf.predict(data_cleaned[:1])"
   ]
  },
  {
   "cell_type": "code",
   "execution_count": 14,
   "metadata": {
    "collapsed": true
   },
   "outputs": [
    {
     "name": "stdout",
     "output_type": "stream",
     "text": [
      "CPU times: user 2min 18s, sys: 100 ms, total: 2min 18s\nWall time: 2min 18s\n[0.59542543 0.61266703 0.39454412 0.45421245 0.42509158]\n"
     ]
    }
   ],
   "source": [
    "from sklearn.model_selection import cross_val_score\n",
    "%time listerr = cross_val_score(clf, data_cleaned, target, cv=5)\n",
    "print listerr"
   ]
  },
  {
   "cell_type": "code",
   "execution_count": 19,
   "metadata": {
    "collapsed": false
   },
   "outputs": [
    {
     "data": {
      "text/plain": [
       "(5, 5)"
      ]
     },
     "execution_count": 19,
     "metadata": {},
     "output_type": "execute_result"
    }
   ],
   "source": [
    "from sklearn.preprocessing import StandardScaler\n",
    "data_standard = StandardScaler().fit_transform(data_cleaned)\n",
    "corr = np.corrcoef(data_standard.T)\n",
    "corr.shape"
   ]
  },
  {
   "cell_type": "code",
   "execution_count": 20,
   "metadata": {
    "collapsed": false
   },
   "outputs": [
    {
     "data": {
      "text/plain": [
       "array([[1.        , 0.66837766, 0.64175596, 0.64342692, 0.73276522],\n       [0.66837766, 1.        , 0.98341281, 0.98538917, 0.71997432],\n       [0.64175596, 0.98341281, 1.        , 0.99595057, 0.70399435],\n       [0.64342692, 0.98538917, 0.99595057, 1.        , 0.71004385],\n       [0.73276522, 0.71997432, 0.70399435, 0.71004385, 1.        ]])"
      ]
     },
     "execution_count": 20,
     "metadata": {},
     "output_type": "execute_result"
    }
   ],
   "source": [
    "import seaborn as sea\n",
    "sea.heatmap(corr)\n",
    "corr"
   ]
  },
  {
   "cell_type": "code",
   "execution_count": 7,
   "metadata": {},
   "outputs": [],
   "source": [
    ""
   ]
  },
  {
   "cell_type": "code",
   "execution_count": null,
   "metadata": {},
   "outputs": [],
   "source": []
  }
 ],
 "metadata": {
  "kernelspec": {
   "display_name": "Python 2",
   "language": "python",
   "name": "python2"
  },
  "language_info": {
   "codemirror_mode": {
    "name": "ipython",
    "version": 2
   },
   "file_extension": ".py",
   "mimetype": "text/x-python",
   "name": "python",
   "nbconvert_exporter": "python",
   "pygments_lexer": "ipython2",
   "version": "2.7.6"
  }
 },
 "nbformat": 4,
 "nbformat_minor": 0
}
