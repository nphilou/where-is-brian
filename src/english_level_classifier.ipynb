{
 "cells": [
  {
   "cell_type": "markdown",
   "metadata": {},
   "source": [
    "# Projet d Analyse et Fouille de donnees \"My taylor is rich\"\n",
    "======================================================================================================\n",
    "\n",
    "\n",
    "Nguyen Philippe  \n",
    "Nourry Charles\n",
    "\n",
    "## Solving a classification problem using scikit-learn and keras\n",
    "\n",
    "The major parts of our projects are:\n",
    "\n",
    "* Text loading, cleaning and lemmatization\n",
    "* Word grouping for each level\n",
    "* Study of word distributions for each class\n",
    "* Training data with a neural network\n",
    "* Study of the results\n"
   ]
  },
  {
   "cell_type": "markdown",
   "metadata": {},
   "source": [
    "### Importing the libraries needed for this project\n"
   ]
  },
  {
   "cell_type": "code",
   "execution_count": 46,
   "metadata": {},
   "outputs": [
    {
     "name": "stdout",
     "output_type": "stream",
     "text": [
      "[nltk_data] Downloading package punkt to\n",
      "[nltk_data]     C:\\Users\\nourr\\AppData\\Roaming\\nltk_data...\n",
      "[nltk_data]   Package punkt is already up-to-date!\n",
      "[nltk_data] Downloading package averaged_perceptron_tagger to\n",
      "[nltk_data]     C:\\Users\\nourr\\AppData\\Roaming\\nltk_data...\n",
      "[nltk_data]   Package averaged_perceptron_tagger is already up-to-\n",
      "[nltk_data]       date!\n",
      "[nltk_data] Downloading package wordnet to\n",
      "[nltk_data]     C:\\Users\\nourr\\AppData\\Roaming\\nltk_data...\n",
      "[nltk_data]   Package wordnet is already up-to-date!\n"
     ]
    },
    {
     "data": {
      "text/plain": [
       "True"
      ]
     },
     "execution_count": 46,
     "metadata": {},
     "output_type": "execute_result"
    }
   ],
   "source": [
    "from __future__ import division\n",
    "from nltk.stem import WordNetLemmatizer\n",
    "\n",
    "import numpy as np\n",
    "import pandas\n",
    "import seaborn as sea\n",
    "\n",
    "import keras\n",
    "import scipy\n",
    "from sklearn import svm\n",
    "\n",
    "import matplotlib.pyplot as plt\n",
    "\n",
    "import nltk\n",
    "from nltk import word_tokenize\n",
    "\n",
    "from sklearn.preprocessing import StandardScaler\n",
    "\n",
    "nltk.download('punkt')\n",
    "nltk.download('averaged_perceptron_tagger')\n",
    "nltk.download('wordnet')"
   ]
  },
  {
   "cell_type": "markdown",
   "metadata": {},
   "source": [
    "### Data loading\n",
    "\n",
    "We read the data, then we separate it in two parts, a part with the text and an other with the statistics.  \n",
    "In our project we will focus mainly on the text part, which is much more significant for predicting the level of English.\n"
   ]
  },
  {
   "cell_type": "code",
   "execution_count": 2,
   "metadata": {},
   "outputs": [],
   "source": [
    "english = pandas.read_csv(\"train_cap2018.csv\") # Reading data"
   ]
  },
  {
   "cell_type": "code",
   "execution_count": 3,
   "metadata": {},
   "outputs": [
    {
     "name": "stdout",
     "output_type": "stream",
     "text": [
      "(27310,)\n",
      "(27310, 58)\n"
     ]
    }
   ],
   "source": [
    "target = english['level1']\n",
    "target.head()\n",
    "print(target.shape)\n",
    "\n",
    "# data :\n",
    "data = english.loc[:, \"sentences\":\"Yule's K\"]\n",
    "print(data.shape)\n",
    "\n",
    "# words_data : \n",
    "text = english.loc[:, \"fulltext\"]\n",
    "words_data = text.map(lambda t: word_tokenize(t))\n"
   ]
  },
  {
   "cell_type": "code",
   "execution_count": 4,
   "metadata": {},
   "outputs": [
    {
     "name": "stdout",
     "output_type": "stream",
     "text": [
      "['Hi', 'my', 'name', \"'s\", 'Jean-Marc', '.', 'I', \"'m\", 'a', 'management', 'controller', '.', 'I', 'work', 'in', 'an', 'office', '.', 'My', 'favorite', 'day', 'in', 'Sunday', '.', 'I', 'get', 'up', 'at', 'eight', \"o'clock\", 'in', 'the', 'morning', 'on', 'Sunday', ',', 'have', 'a', 'shower', ',', 'brush', 'my', 'teeth', 'and', 'go', 'running', '.', 'I', 'have', 'lunch', 'at', 'twelve', \"o'clock\", 'in', 'the', 'afternoon', '.', 'I', 'go', 'swimming', 'in', 'the', 'evening', ',', 'I', 'meet', 'friends', '.', 'We', 'eat', 'in', 'a', 'restaurant', 'then', 'go', 'to', 'the', 'movies', 'and', 'watch', 'a', 'movie', '.', 'I', 'go', 'to', 'bed', 'at', 'eleven', \"o'clock\", '.']\n",
      "52\n",
      "91\n",
      "0.5714285714285714\n",
      "0.6238532110091743\n",
      "0.6938775510204082\n"
     ]
    }
   ],
   "source": [
    "tagged = nltk.pos_tag(words_data[27304])\n",
    "\n",
    "print(words_data[27305])\n",
    "\n",
    "print(len(set(words_data[27305])))\n",
    "\n",
    "print(len(words_data[27305]))\n",
    "print(len(set(words_data[27305])) / len(words_data[27305]))\n",
    "print(len(set(words_data[3000])) / len(words_data[3000]))\n",
    "print(len(set(words_data[2])) / len(words_data[2]))\n",
    "\n",
    "\n",
    "def lexical_diversity(text):\n",
    "    return len(set(text)) / len(text)\n",
    "\n",
    "\n",
    "ld = words_data.map(lambda t: lexical_diversity(t))\n",
    "\n"
   ]
  },
  {
   "cell_type": "markdown",
   "metadata": {},
   "source": [
    "### Grouping of data\n",
    "\n",
    "Data is grouped according to English levels. The words used are very significant to the level of English, a beginner will not use the same words as a bilingual.\n"
   ]
  },
  {
   "cell_type": "code",
   "execution_count": 6,
   "metadata": {},
   "outputs": [
    {
     "data": {
      "text/html": [
       "<div>\n",
       "<style scoped>\n",
       "    .dataframe tbody tr th:only-of-type {\n",
       "        vertical-align: middle;\n",
       "    }\n",
       "\n",
       "    .dataframe tbody tr th {\n",
       "        vertical-align: top;\n",
       "    }\n",
       "\n",
       "    .dataframe thead th {\n",
       "        text-align: right;\n",
       "    }\n",
       "</style>\n",
       "<table border=\"1\" class=\"dataframe\">\n",
       "  <thead>\n",
       "    <tr style=\"text-align: right;\">\n",
       "      <th></th>\n",
       "      <th>words</th>\n",
       "    </tr>\n",
       "    <tr>\n",
       "      <th>level</th>\n",
       "      <th></th>\n",
       "    </tr>\n",
       "  </thead>\n",
       "  <tbody>\n",
       "    <tr>\n",
       "      <th>C2</th>\n",
       "      <td>[The, Eiffel, Tower, is, a, symbol, of, domina...</td>\n",
       "    </tr>\n",
       "    <tr>\n",
       "      <th>C1</th>\n",
       "      <td>[Since, our, meeting, I, 've, heard, your, req...</td>\n",
       "    </tr>\n",
       "    <tr>\n",
       "      <th>B2</th>\n",
       "      <td>[At, the, beginning, of, the, metting, the, CE...</td>\n",
       "    </tr>\n",
       "    <tr>\n",
       "      <th>B1</th>\n",
       "      <td>[Hello, my, friend, ,, I, would, like, to, tel...</td>\n",
       "    </tr>\n",
       "    <tr>\n",
       "      <th>A2</th>\n",
       "      <td>[Dear, friends, ,, excuse, me, but, I, could, ...</td>\n",
       "    </tr>\n",
       "    <tr>\n",
       "      <th>A1</th>\n",
       "      <td>[Hello, My, name, 's, David, ., I, 'm, from, F...</td>\n",
       "    </tr>\n",
       "  </tbody>\n",
       "</table>\n",
       "</div>"
      ],
      "text/plain": [
       "                                                   words\n",
       "level                                                   \n",
       "C2     [The, Eiffel, Tower, is, a, symbol, of, domina...\n",
       "C1     [Since, our, meeting, I, 've, heard, your, req...\n",
       "B2     [At, the, beginning, of, the, metting, the, CE...\n",
       "B1     [Hello, my, friend, ,, I, would, like, to, tel...\n",
       "A2     [Dear, friends, ,, excuse, me, but, I, could, ...\n",
       "A1     [Hello, My, name, 's, David, ., I, 'm, from, F..."
      ]
     },
     "execution_count": 6,
     "metadata": {},
     "output_type": "execute_result"
    }
   ],
   "source": [
    "# word lists for each instance\n",
    "pdf = pandas.DataFrame({'level': target, 'words': words_data})\n",
    "\n",
    "# words grouped according to the level\n",
    "grouped = pdf.groupby(['level'], sort=False).sum()\n",
    "grouped"
   ]
  },
  {
   "cell_type": "markdown",
   "metadata": {},
   "source": [
    "### Lemmatization of words\n",
    "\n",
    "it is essential to lemmatize the words, in this way we will be able to recognize all the similar words, which have been used in the plural or conjugated in the original data.  \n",
    "We apply this process twice, once on the data that we grouped by class and another time directly on the instances.\n"
   ]
  },
  {
   "cell_type": "code",
   "execution_count": 7,
   "metadata": {},
   "outputs": [
    {
     "data": {
      "text/html": [
       "<div>\n",
       "<style scoped>\n",
       "    .dataframe tbody tr th:only-of-type {\n",
       "        vertical-align: middle;\n",
       "    }\n",
       "\n",
       "    .dataframe tbody tr th {\n",
       "        vertical-align: top;\n",
       "    }\n",
       "\n",
       "    .dataframe thead th {\n",
       "        text-align: right;\n",
       "    }\n",
       "</style>\n",
       "<table border=\"1\" class=\"dataframe\">\n",
       "  <thead>\n",
       "    <tr style=\"text-align: right;\">\n",
       "      <th></th>\n",
       "      <th>words</th>\n",
       "    </tr>\n",
       "    <tr>\n",
       "      <th>level</th>\n",
       "      <th></th>\n",
       "    </tr>\n",
       "  </thead>\n",
       "  <tbody>\n",
       "    <tr>\n",
       "      <th>C2</th>\n",
       "      <td>{Promised, solving, stream, Situated, creature...</td>\n",
       "    </tr>\n",
       "    <tr>\n",
       "      <th>C1</th>\n",
       "      <td>{amelioration, pollution, joined, tap, client,...</td>\n",
       "    </tr>\n",
       "    <tr>\n",
       "      <th>B2</th>\n",
       "      <td>{frowning, better.-, meta-genre, pollution, NO...</td>\n",
       "    </tr>\n",
       "    <tr>\n",
       "      <th>B1</th>\n",
       "      <td>{MCA, 1.each, sap, pollution, Marielle, B.A, j...</td>\n",
       "    </tr>\n",
       "    <tr>\n",
       "      <th>A2</th>\n",
       "      <td>{Cullen, Smaug, dew, Ile-de-R, Dunkerque, ensl...</td>\n",
       "    </tr>\n",
       "    <tr>\n",
       "      <th>A1</th>\n",
       "      <td>{amelioration, fourty-seven, Month, pollution,...</td>\n",
       "    </tr>\n",
       "  </tbody>\n",
       "</table>\n",
       "</div>"
      ],
      "text/plain": [
       "                                                   words\n",
       "level                                                   \n",
       "C2     {Promised, solving, stream, Situated, creature...\n",
       "C1     {amelioration, pollution, joined, tap, client,...\n",
       "B2     {frowning, better.-, meta-genre, pollution, NO...\n",
       "B1     {MCA, 1.each, sap, pollution, Marielle, B.A, j...\n",
       "A2     {Cullen, Smaug, dew, Ile-de-R, Dunkerque, ensl...\n",
       "A1     {amelioration, fourty-seven, Month, pollution,..."
      ]
     },
     "execution_count": 7,
     "metadata": {},
     "output_type": "execute_result"
    }
   ],
   "source": [
    "# lemmatization of words\n",
    "lemmatizer = WordNetLemmatizer()\n",
    "grouped_in_set = grouped.applymap(lambda l: set(map(lemmatizer.lemmatize, l)))\n",
    "grouped_in_set"
   ]
  },
  {
   "cell_type": "code",
   "execution_count": 8,
   "metadata": {},
   "outputs": [],
   "source": [
    "diff_words_count = grouped_in_set.applymap(lambda s: len({w for w in s if w[0].islower()}))\n",
    "diff_words = grouped_in_set.applymap(lambda s: {w for w in s if w[0].islower()})"
   ]
  },
  {
   "cell_type": "code",
   "execution_count": 9,
   "metadata": {},
   "outputs": [],
   "source": [
    "# lemmatization of words for every instance\n",
    "words_lem = words_data.apply(lambda l: set(map(lemmatizer.lemmatize, l)))"
   ]
  },
  {
   "cell_type": "code",
   "execution_count": 10,
   "metadata": {},
   "outputs": [
    {
     "data": {
      "text/plain": [
       "1759"
      ]
     },
     "execution_count": 10,
     "metadata": {},
     "output_type": "execute_result"
    }
   ],
   "source": [
    "diff_words_count[\"words\"][\"C2\"]"
   ]
  },
  {
   "cell_type": "code",
   "execution_count": 11,
   "metadata": {},
   "outputs": [
    {
     "name": "stdout",
     "output_type": "stream",
     "text": [
      "0.8389830508474576\n",
      "0.7372881355932204\n",
      "0.7288135593220338\n",
      "0.7457627118644068\n",
      "0.7457627118644068\n",
      "0.652542372881356\n",
      "0.5657894736842105\n",
      "0.6842105263157895\n",
      "0.7368421052631579\n",
      "0.7236842105263158\n",
      "0.7105263157894737\n",
      "0.8421052631578947\n"
     ]
    }
   ],
   "source": [
    "print(len(words_lem[1] & diff_words[\"words\"][\"C2\"])/len(words_lem[1]))\n",
    "print(len(words_lem[1] & diff_words[\"words\"][\"C1\"])/len(words_lem[1]))\n",
    "print(len(words_lem[1] & diff_words[\"words\"][\"B2\"])/len(words_lem[1]))\n",
    "print(len(words_lem[1] & diff_words[\"words\"][\"B1\"])/len(words_lem[1]))\n",
    "print(len(words_lem[1] & diff_words[\"words\"][\"A2\"])/len(words_lem[1]))\n",
    "print(len(words_lem[1] & diff_words[\"words\"][\"A1\"])/len(words_lem[1]))\n",
    "\n",
    "print(len(words_lem[27306] & diff_words[\"words\"][\"C2\"])/len(words_lem[27306]))\n",
    "print(len(words_lem[27306] & diff_words[\"words\"][\"C1\"])/len(words_lem[27306]))\n",
    "print(len(words_lem[27306] & diff_words[\"words\"][\"B2\"])/len(words_lem[27306]))\n",
    "print(len(words_lem[27306] & diff_words[\"words\"][\"B1\"])/len(words_lem[27306]))\n",
    "print(len(words_lem[27306] & diff_words[\"words\"][\"A2\"])/len(words_lem[27306]))\n",
    "print(len(words_lem[27306] & diff_words[\"words\"][\"A1\"])/len(words_lem[27306]))\n",
    "\n",
    "# probabilities of each instance of belonging to each class\n",
    "dist_C2 = pandas.DataFrame({'C2': words_lem.map(lambda t: len(t & diff_words[\"words\"][\"C2\"])/len(t)),\n",
    "                            'C1': words_lem.map(lambda t: len(t & diff_words[\"words\"][\"C1\"])/len(t)),\n",
    "                            'B2': words_lem.map(lambda t: len(t & diff_words[\"words\"][\"B2\"])/len(t)),\n",
    "                            'B1': words_lem.map(lambda t: len(t & diff_words[\"words\"][\"B1\"])/len(t)),\n",
    "                            'A2': words_lem.map(lambda t: len(t & diff_words[\"words\"][\"A2\"])/len(t)),\n",
    "                            'A1': words_lem.map(lambda t: len(t & diff_words[\"words\"][\"A1\"])/len(t)),\n",
    "                            'level': target\n",
    "                            })\n",
    "\n"
   ]
  },
  {
   "cell_type": "markdown",
   "metadata": {},
   "source": [
    "### Histogram of class distribution\n",
    "This figure shows that the data are not uniformly distributed.\n"
   ]
  },
  {
   "cell_type": "code",
   "execution_count": 12,
   "metadata": {},
   "outputs": [
    {
     "data": {
      "image/png": "[encoded data removed]",
      "text/plain": [
       "<matplotlib.figure.Figure at 0x2b906869da0>"
      ]
     },
     "metadata": {},
     "output_type": "display_data"
    }
   ],
   "source": [
    "# histogram of class distribution\n",
    "fig = plt.figure()\n",
    "y = english.groupby('level1').sentences.count()\n",
    "plt.bar(y.keys(), y.values)\n",
    "plt.show()"
   ]
  },
  {
   "cell_type": "markdown",
   "metadata": {},
   "source": [
    "### Training of a neural network on the data\n",
    "\n",
    "We use keras to build and train our neural network.  \n",
    "After processing the data in such a way that we can use them in our neural network. We let the network train for 50 steps.  \n",
    "This allows us to obtain a validation of accurancy of 86%.\n",
    "\n"
   ]
  },
  {
   "cell_type": "code",
   "execution_count": 13,
   "metadata": {},
   "outputs": [
    {
     "name": "stdout",
     "output_type": "stream",
     "text": [
      "Epoch 1/50\n",
      "27310/27310 [==============================] - 6s 209us/step - loss: 1.2517 - acc: 0.4398\n",
      "Epoch 2/50\n",
      "27310/27310 [==============================] - 5s 173us/step - loss: 1.0321 - acc: 0.5461\n",
      "Epoch 3/50\n",
      "27310/27310 [==============================] - 4s 161us/step - loss: 0.8931 - acc: 0.6226\n",
      "Epoch 4/50\n",
      "27310/27310 [==============================] - 4s 156us/step - loss: 0.7811 - acc: 0.6780\n",
      "Epoch 5/50\n",
      "27310/27310 [==============================] - 4s 148us/step - loss: 0.6922 - acc: 0.7190\n",
      "Epoch 6/50\n",
      "27310/27310 [==============================] - 4s 155us/step - loss: 0.6306 - acc: 0.7450\n",
      "Epoch 7/50\n",
      "27310/27310 [==============================] - 5s 177us/step - loss: 0.5835 - acc: 0.7711\n",
      "Epoch 8/50\n",
      "27310/27310 [==============================] - 5s 178us/step - loss: 0.5481 - acc: 0.7848\n",
      "Epoch 9/50\n",
      "27310/27310 [==============================] - 6s 202us/step - loss: 0.5215 - acc: 0.7957\n",
      "Epoch 10/50\n",
      "27310/27310 [==============================] - 5s 198us/step - loss: 0.5007 - acc: 0.8040\n",
      "Epoch 11/50\n",
      "27310/27310 [==============================] - 5s 188us/step - loss: 0.4826 - acc: 0.8107\n",
      "Epoch 12/50\n",
      "27310/27310 [==============================] - 5s 196us/step - loss: 0.4674 - acc: 0.8164\n",
      "Epoch 13/50\n",
      "27310/27310 [==============================] - 5s 191us/step - loss: 0.4556 - acc: 0.8227\n",
      "Epoch 14/50\n",
      "27310/27310 [==============================] - 5s 185us/step - loss: 0.4448 - acc: 0.8259\n",
      "Epoch 15/50\n",
      "27310/27310 [==============================] - 5s 190us/step - loss: 0.4361 - acc: 0.8280\n",
      "Epoch 16/50\n",
      "27310/27310 [==============================] - 5s 192us/step - loss: 0.4279 - acc: 0.8285\n",
      "Epoch 17/50\n",
      "27310/27310 [==============================] - 5s 178us/step - loss: 0.4206 - acc: 0.8315\n",
      "Epoch 18/50\n",
      "27310/27310 [==============================] - 5s 188us/step - loss: 0.4106 - acc: 0.8362\n",
      "Epoch 19/50\n",
      "27310/27310 [==============================] - 5s 194us/step - loss: 0.4082 - acc: 0.8399\n",
      "Epoch 20/50\n",
      "27310/27310 [==============================] - 5s 179us/step - loss: 0.4016 - acc: 0.8403\n",
      "Epoch 21/50\n",
      "27310/27310 [==============================] - 5s 181us/step - loss: 0.3899 - acc: 0.8457\n",
      "Epoch 22/50\n",
      "27310/27310 [==============================] - 6s 205us/step - loss: 0.3873 - acc: 0.8465\n",
      "Epoch 23/50\n",
      "27310/27310 [==============================] - 5s 183us/step - loss: 0.3848 - acc: 0.8465\n",
      "Epoch 24/50\n",
      "27310/27310 [==============================] - 5s 188us/step - loss: 0.3736 - acc: 0.8512\n",
      "Epoch 25/50\n",
      "27310/27310 [==============================] - 5s 195us/step - loss: 0.3790 - acc: 0.8503\n",
      "Epoch 26/50\n",
      "27310/27310 [==============================] - 5s 186us/step - loss: 0.3753 - acc: 0.8486\n",
      "Epoch 27/50\n",
      "27310/27310 [==============================] - 5s 191us/step - loss: 0.3639 - acc: 0.8555\n",
      "Epoch 28/50\n",
      "27310/27310 [==============================] - 5s 195us/step - loss: 0.3670 - acc: 0.8525\n",
      "Epoch 29/50\n",
      "27310/27310 [==============================] - 5s 189us/step - loss: 0.3686 - acc: 0.8512\n",
      "Epoch 30/50\n",
      "27310/27310 [==============================] - 5s 189us/step - loss: 0.3632 - acc: 0.8544\n",
      "Epoch 31/50\n",
      "27310/27310 [==============================] - 5s 171us/step - loss: 0.3611 - acc: 0.8543\n",
      "Epoch 32/50\n",
      "27310/27310 [==============================] - 5s 193us/step - loss: 0.3555 - acc: 0.8562\n",
      "Epoch 33/50\n",
      "27310/27310 [==============================] - 5s 182us/step - loss: 0.3525 - acc: 0.8572\n",
      "Epoch 34/50\n",
      "27310/27310 [==============================] - 5s 189us/step - loss: 0.3543 - acc: 0.8572\n",
      "Epoch 35/50\n",
      "27310/27310 [==============================] - 5s 188us/step - loss: 0.3533 - acc: 0.8585\n",
      "Epoch 36/50\n",
      "27310/27310 [==============================] - 5s 182us/step - loss: 0.3476 - acc: 0.8584\n",
      "Epoch 37/50\n",
      "27310/27310 [==============================] - 5s 184us/step - loss: 0.3496 - acc: 0.8583\n",
      "Epoch 38/50\n",
      "27310/27310 [==============================] - 5s 194us/step - loss: 0.3467 - acc: 0.8593\n",
      "Epoch 39/50\n",
      "27310/27310 [==============================] - 5s 173us/step - loss: 0.3484 - acc: 0.8573\n",
      "Epoch 40/50\n",
      "27310/27310 [==============================] - 5s 187us/step - loss: 0.3468 - acc: 0.8604\n",
      "Epoch 41/50\n",
      "27310/27310 [==============================] - 5s 196us/step - loss: 0.3388 - acc: 0.8611\n",
      "Epoch 42/50\n",
      "27310/27310 [==============================] - 5s 179us/step - loss: 0.3420 - acc: 0.8610\n",
      "Epoch 43/50\n",
      "27310/27310 [==============================] - 5s 187us/step - loss: 0.3374 - acc: 0.8647\n",
      "Epoch 44/50\n",
      "27310/27310 [==============================] - 5s 188us/step - loss: 0.3411 - acc: 0.8592\n",
      "Epoch 45/50\n",
      "27310/27310 [==============================] - 5s 178us/step - loss: 0.3398 - acc: 0.8615\n",
      "Epoch 46/50\n",
      "27310/27310 [==============================] - 5s 184us/step - loss: 0.3355 - acc: 0.8622\n",
      "Epoch 47/50\n",
      "27310/27310 [==============================] - 5s 197us/step - loss: 0.3328 - acc: 0.8639\n",
      "Epoch 48/50\n",
      "27310/27310 [==============================] - 5s 182us/step - loss: 0.3318 - acc: 0.8642\n",
      "Epoch 49/50\n",
      "27310/27310 [==============================] - 5s 170us/step - loss: 0.3291 - acc: 0.8665\n",
      "Epoch 50/50\n",
      "27310/27310 [==============================] - 5s 183us/step - loss: 0.3328 - acc: 0.8641\n"
     ]
    }
   ],
   "source": [
    "# training of a neural network on the data\n",
    "\n",
    "import keras.models\n",
    "from keras.layers import Conv2D, MaxPooling2D\n",
    "from keras.layers import Dense, Dropout, Activation\n",
    "from keras.utils import np_utils\n",
    "from sklearn.preprocessing import LabelEncoder\n",
    "\n",
    "data_cleaned = english.loc[:, \"sentences\":\"Yule's K\"].T.dropna().T\n",
    "dist = dist_C2.loc[:, \"A1\":\"C2\"]\n",
    "\n",
    "cols = dist.shape[1] + data_cleaned.shape[1]\n",
    "\n",
    "\n",
    "model = keras.models.Sequential()\n",
    "model.add(Dense(512, input_shape=(6,), activation='relu'))\n",
    "model.add(Dropout(0.5))\n",
    "model.add(Dense(256, activation='sigmoid'))\n",
    "model.add(Dropout(0.5))\n",
    "model.add(Dense(6, activation='softmax'))\n",
    "\n",
    "model.compile(loss='categorical_crossentropy',\n",
    "              optimizer='adam',\n",
    "              \n",
    "              metrics=['accuracy'])\n",
    "\n",
    "encoder = LabelEncoder()\n",
    "encoder.fit(dist_C2.loc[:, \"level\"])\n",
    "\n",
    "encode_Y = encoder.transform(dist_C2.loc[:, \"level\"])\n",
    "Y = np_utils.to_categorical(encode_Y)\n",
    "\n",
    "# with tf.device('/gpu:0'):\n",
    "\n",
    "model.fit(dist, Y, epochs=50, batch_size=32) \n",
    "\n",
    "# + données du csv\n",
    "\n",
    "frames = [dist, data_cleaned]\n",
    "\n",
    "X = pandas.concat(frames, axis=1)\n",
    "\n",
    "# model.fit(X, Y, epochs=40, batch_size=32) "
   ]
  },
  {
   "cell_type": "markdown",
   "metadata": {},
   "source": [
    "### Correlation matrix\n",
    "\n",
    "We calculate the correlation matrix.\n"
   ]
  },
  {
   "cell_type": "code",
   "execution_count": 45,
   "metadata": {},
   "outputs": [
    {
     "data": {
      "text/plain": [
       "array([[ 1.        ,  0.89395564,  0.88529888, ..., -0.07625987,\n",
       "        -0.00451134, -0.0470917 ],\n",
       "       [ 0.89395564,  1.        ,  0.94011045, ..., -0.1648217 ,\n",
       "        -0.01735999, -0.09274548],\n",
       "       [ 0.88529888,  0.94011045,  1.        , ..., -0.18962614,\n",
       "        -0.01508215, -0.12760007],\n",
       "       ...,\n",
       "       [-0.07625987, -0.1648217 , -0.18962614, ...,  1.        ,\n",
       "         0.6858437 , -0.48637956],\n",
       "       [-0.00451134, -0.01735999, -0.01508215, ...,  0.6858437 ,\n",
       "         1.        , -0.5895272 ],\n",
       "       [-0.0470917 , -0.09274548, -0.12760007, ..., -0.48637956,\n",
       "        -0.5895272 ,  1.        ]])"
      ]
     },
     "execution_count": 45,
     "metadata": {},
     "output_type": "execute_result"
    },
    {
     "data": {
      "image/png": "[encoded data removed]",
      "text/plain": [
       "<matplotlib.figure.Figure at 0x2b9093c58d0>"
      ]
     },
     "metadata": {},
     "output_type": "display_data"
    }
   ],
   "source": [
    "# study of the correlation of the data with the correlation matrix\n",
    "\n",
    "data_standard = StandardScaler().fit_transform(X)\n",
    "corr = np.corrcoef(data_standard.T)\n",
    "corr.shape\n",
    "\n",
    "\n",
    "sea.heatmap(corr)\n",
    "corr\n"
   ]
  },
  {
   "cell_type": "markdown",
   "metadata": {},
   "source": [
    "### Confusion matrix\n",
    "\n",
    "The confusion matrix is calculated from the data whose level of English is known.  \n",
    "We compare the classes of the data with the results predicted by our model.\n",
    "\n",
    "\n"
   ]
  },
  {
   "cell_type": "code",
   "execution_count": 43,
   "metadata": {},
   "outputs": [
    {
     "data": {
      "text/plain": [
       "array([[11361,     0,     0,     0,     0,     0],\n",
       "       [ 1613,  5983,     0,    92,     0,     0],\n",
       "       [  607,   319,  4097,   352,     8,     0],\n",
       "       [   56,    21,     0,  2260,     0,     0],\n",
       "       [   24,     6,     2,    27,   432,     0],\n",
       "       [    1,     5,    13,    11,     0,    20]], dtype=int64)"
      ]
     },
     "execution_count": 43,
     "metadata": {},
     "output_type": "execute_result"
    }
   ],
   "source": [
    "# confusion matrix\n",
    "import random\n",
    "from sklearn.metrics import confusion_matrix\n",
    "\n",
    "y_true = dist_C2.loc[:, \"level\"]\n",
    "y_predict = model.predict(dist_C2.loc[:, \"A1\":\"C2\"], batch_size=32)\n",
    "y_pred = []\n",
    "level = [\"A1\", \"A2\", \"B1\", \"B2\", \"C1\", \"C2\"]\n",
    "\n",
    "for i in range (0,np.shape(y_predict)[0]):\n",
    "    max = np.max(y_predict[i])\n",
    "    pos, = np.where(y_predict[i] == max)\n",
    "    y_pred.append(level[pos[random.randint(0,len(pos)-1)]])\n",
    "\n",
    "cm = confusion_matrix(y_true, y_pred, labels=[\"A1\", \"A2\", \"B1\", \"B2\", \"C1\", \"C2\"])\n",
    "cm"
   ]
  },
  {
   "cell_type": "code",
   "execution_count": 13,
   "metadata": {
    "collapsed": true
   },
   "outputs": [
    {
     "ename": "NameError",
     "evalue": "name 'clf' is not defined",
     "output_type": "error",
     "traceback": [
      "\u001b[0;31m---------------------------------------------------------------------------\u001b[0m",
      "\u001b[0;31mNameError\u001b[0m                                 Traceback (most recent call last)",
      "\u001b[0;32m<ipython-input-13-128aeb7350b2>\u001b[0m in \u001b[0;36m<module>\u001b[0;34m()\u001b[0m\n\u001b[1;32m      1\u001b[0m \u001b[0;32mfrom\u001b[0m \u001b[0msklearn\u001b[0m\u001b[0;34m.\u001b[0m\u001b[0mmodel_selection\u001b[0m \u001b[0;32mimport\u001b[0m \u001b[0mcross_val_score\u001b[0m\u001b[0;34m\u001b[0m\u001b[0m\n\u001b[0;32m----> 2\u001b[0;31m \u001b[0mget_ipython\u001b[0m\u001b[0;34m(\u001b[0m\u001b[0;34m)\u001b[0m\u001b[0;34m.\u001b[0m\u001b[0mmagic\u001b[0m\u001b[0;34m(\u001b[0m\u001b[0;34m'time listerr = cross_val_score(clf, dist_C2, target, cv=5)'\u001b[0m\u001b[0;34m)\u001b[0m\u001b[0;34m\u001b[0m\u001b[0m\n\u001b[0m\u001b[1;32m      3\u001b[0m \u001b[0mprint\u001b[0m\u001b[0;34m(\u001b[0m\u001b[0mlisterr\u001b[0m\u001b[0;34m)\u001b[0m\u001b[0;34m\u001b[0m\u001b[0m\n",
      "\u001b[0;32m/Users/Philippe/Programmation/where-is-brian/venv/lib/python3.6/site-packages/IPython/core/interactiveshell.py\u001b[0m in \u001b[0;36mmagic\u001b[0;34m(self, arg_s)\u001b[0m\n\u001b[1;32m   2158\u001b[0m         \u001b[0mmagic_name\u001b[0m\u001b[0;34m,\u001b[0m \u001b[0m_\u001b[0m\u001b[0;34m,\u001b[0m \u001b[0mmagic_arg_s\u001b[0m \u001b[0;34m=\u001b[0m \u001b[0marg_s\u001b[0m\u001b[0;34m.\u001b[0m\u001b[0mpartition\u001b[0m\u001b[0;34m(\u001b[0m\u001b[0;34m' '\u001b[0m\u001b[0;34m)\u001b[0m\u001b[0;34m\u001b[0m\u001b[0m\n\u001b[1;32m   2159\u001b[0m         \u001b[0mmagic_name\u001b[0m \u001b[0;34m=\u001b[0m \u001b[0mmagic_name\u001b[0m\u001b[0;34m.\u001b[0m\u001b[0mlstrip\u001b[0m\u001b[0;34m(\u001b[0m\u001b[0mprefilter\u001b[0m\u001b[0;34m.\u001b[0m\u001b[0mESC_MAGIC\u001b[0m\u001b[0;34m)\u001b[0m\u001b[0;34m\u001b[0m\u001b[0m\n\u001b[0;32m-> 2160\u001b[0;31m         \u001b[0;32mreturn\u001b[0m \u001b[0mself\u001b[0m\u001b[0;34m.\u001b[0m\u001b[0mrun_line_magic\u001b[0m\u001b[0;34m(\u001b[0m\u001b[0mmagic_name\u001b[0m\u001b[0;34m,\u001b[0m \u001b[0mmagic_arg_s\u001b[0m\u001b[0;34m)\u001b[0m\u001b[0;34m\u001b[0m\u001b[0m\n\u001b[0m\u001b[1;32m   2161\u001b[0m \u001b[0;34m\u001b[0m\u001b[0m\n\u001b[1;32m   2162\u001b[0m     \u001b[0;31m#-------------------------------------------------------------------------\u001b[0m\u001b[0;34m\u001b[0m\u001b[0;34m\u001b[0m\u001b[0m\n",
      "\u001b[0;32m/Users/Philippe/Programmation/where-is-brian/venv/lib/python3.6/site-packages/IPython/core/interactiveshell.py\u001b[0m in \u001b[0;36mrun_line_magic\u001b[0;34m(self, magic_name, line)\u001b[0m\n\u001b[1;32m   2079\u001b[0m                 \u001b[0mkwargs\u001b[0m\u001b[0;34m[\u001b[0m\u001b[0;34m'local_ns'\u001b[0m\u001b[0;34m]\u001b[0m \u001b[0;34m=\u001b[0m \u001b[0msys\u001b[0m\u001b[0;34m.\u001b[0m\u001b[0m_getframe\u001b[0m\u001b[0;34m(\u001b[0m\u001b[0mstack_depth\u001b[0m\u001b[0;34m)\u001b[0m\u001b[0;34m.\u001b[0m\u001b[0mf_locals\u001b[0m\u001b[0;34m\u001b[0m\u001b[0m\n\u001b[1;32m   2080\u001b[0m             \u001b[0;32mwith\u001b[0m \u001b[0mself\u001b[0m\u001b[0;34m.\u001b[0m\u001b[0mbuiltin_trap\u001b[0m\u001b[0;34m:\u001b[0m\u001b[0;34m\u001b[0m\u001b[0m\n\u001b[0;32m-> 2081\u001b[0;31m                 \u001b[0mresult\u001b[0m \u001b[0;34m=\u001b[0m \u001b[0mfn\u001b[0m\u001b[0;34m(\u001b[0m\u001b[0;34m*\u001b[0m\u001b[0margs\u001b[0m\u001b[0;34m,\u001b[0m\u001b[0;34m**\u001b[0m\u001b[0mkwargs\u001b[0m\u001b[0;34m)\u001b[0m\u001b[0;34m\u001b[0m\u001b[0m\n\u001b[0m\u001b[1;32m   2082\u001b[0m             \u001b[0;32mreturn\u001b[0m \u001b[0mresult\u001b[0m\u001b[0;34m\u001b[0m\u001b[0m\n\u001b[1;32m   2083\u001b[0m \u001b[0;34m\u001b[0m\u001b[0m\n",
      "\u001b[0;32m<decorator-gen-60>\u001b[0m in \u001b[0;36mtime\u001b[0;34m(self, line, cell, local_ns)\u001b[0m\n",
      "\u001b[0;32m/Users/Philippe/Programmation/where-is-brian/venv/lib/python3.6/site-packages/IPython/core/magic.py\u001b[0m in \u001b[0;36m<lambda>\u001b[0;34m(f, *a, **k)\u001b[0m\n\u001b[1;32m    186\u001b[0m     \u001b[0;31m# but it's overkill for just that one bit of state.\u001b[0m\u001b[0;34m\u001b[0m\u001b[0;34m\u001b[0m\u001b[0m\n\u001b[1;32m    187\u001b[0m     \u001b[0;32mdef\u001b[0m \u001b[0mmagic_deco\u001b[0m\u001b[0;34m(\u001b[0m\u001b[0marg\u001b[0m\u001b[0;34m)\u001b[0m\u001b[0;34m:\u001b[0m\u001b[0;34m\u001b[0m\u001b[0m\n\u001b[0;32m--> 188\u001b[0;31m         \u001b[0mcall\u001b[0m \u001b[0;34m=\u001b[0m \u001b[0;32mlambda\u001b[0m \u001b[0mf\u001b[0m\u001b[0;34m,\u001b[0m \u001b[0;34m*\u001b[0m\u001b[0ma\u001b[0m\u001b[0;34m,\u001b[0m \u001b[0;34m**\u001b[0m\u001b[0mk\u001b[0m\u001b[0;34m:\u001b[0m \u001b[0mf\u001b[0m\u001b[0;34m(\u001b[0m\u001b[0;34m*\u001b[0m\u001b[0ma\u001b[0m\u001b[0;34m,\u001b[0m \u001b[0;34m**\u001b[0m\u001b[0mk\u001b[0m\u001b[0;34m)\u001b[0m\u001b[0;34m\u001b[0m\u001b[0m\n\u001b[0m\u001b[1;32m    189\u001b[0m \u001b[0;34m\u001b[0m\u001b[0m\n\u001b[1;32m    190\u001b[0m         \u001b[0;32mif\u001b[0m \u001b[0mcallable\u001b[0m\u001b[0;34m(\u001b[0m\u001b[0marg\u001b[0m\u001b[0;34m)\u001b[0m\u001b[0;34m:\u001b[0m\u001b[0;34m\u001b[0m\u001b[0m\n",
      "\u001b[0;32m/Users/Philippe/Programmation/where-is-brian/venv/lib/python3.6/site-packages/IPython/core/magics/execution.py\u001b[0m in \u001b[0;36mtime\u001b[0;34m(self, line, cell, local_ns)\u001b[0m\n\u001b[1;32m   1191\u001b[0m         \u001b[0;32melse\u001b[0m\u001b[0;34m:\u001b[0m\u001b[0;34m\u001b[0m\u001b[0m\n\u001b[1;32m   1192\u001b[0m             \u001b[0mst\u001b[0m \u001b[0;34m=\u001b[0m \u001b[0mclock2\u001b[0m\u001b[0;34m(\u001b[0m\u001b[0;34m)\u001b[0m\u001b[0;34m\u001b[0m\u001b[0m\n\u001b[0;32m-> 1193\u001b[0;31m             \u001b[0mexec\u001b[0m\u001b[0;34m(\u001b[0m\u001b[0mcode\u001b[0m\u001b[0;34m,\u001b[0m \u001b[0mglob\u001b[0m\u001b[0;34m,\u001b[0m \u001b[0mlocal_ns\u001b[0m\u001b[0;34m)\u001b[0m\u001b[0;34m\u001b[0m\u001b[0m\n\u001b[0m\u001b[1;32m   1194\u001b[0m             \u001b[0mend\u001b[0m \u001b[0;34m=\u001b[0m \u001b[0mclock2\u001b[0m\u001b[0;34m(\u001b[0m\u001b[0;34m)\u001b[0m\u001b[0;34m\u001b[0m\u001b[0m\n\u001b[1;32m   1195\u001b[0m             \u001b[0mout\u001b[0m \u001b[0;34m=\u001b[0m \u001b[0;32mNone\u001b[0m\u001b[0;34m\u001b[0m\u001b[0m\n",
      "\u001b[0;32m<timed exec>\u001b[0m in \u001b[0;36m<module>\u001b[0;34m()\u001b[0m\n",
      "\u001b[0;31mNameError\u001b[0m: name 'clf' is not defined"
     ]
    }
   ],
   "source": [
    "from sklearn.model_selection import cross_val_score\n",
    "%time listerr = cross_val_score(clf, dist_C2, target, cv=5)\n"
   ]
  }
 ],
 "metadata": {
  "kernelspec": {
   "display_name": "Python 3",
   "language": "python",
   "name": "python3"
  },
  "language_info": {
   "codemirror_mode": {
    "name": "ipython",
    "version": 3
   },
   "file_extension": ".py",
   "mimetype": "text/x-python",
   "name": "python",
   "nbconvert_exporter": "python",
   "pygments_lexer": "ipython3",
   "version": "3.6.4"
  }
 },
 "nbformat": 4,
 "nbformat_minor": 1
}
