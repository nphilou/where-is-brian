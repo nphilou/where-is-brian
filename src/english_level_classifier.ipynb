{
 "cells": [
  {
   "cell_type": "code",
   "execution_count": 18,
   "metadata": {
    "collapsed": true
   },
   "outputs": [],
   "source": [
    "import numpy as np\n",
    "import pandas\n",
    "import scipy\n",
    "from sklearn import svm\n",
    "\n",
    "import matplotlib.pyplot as plt\n",
    "\n",
    "import nltk\n",
    "from nltk import word_tokenize\n"
   ]
  },
  {
   "cell_type": "code",
   "execution_count": 16,
   "metadata": {
    "collapsed": true
   },
   "outputs": [],
   "source": [
    "english = pandas.read_csv(\"train_cap2018.csv\")"
   ]
  },
  {
   "cell_type": "code",
   "execution_count": 199,
   "metadata": {
    "collapsed": true
   },
   "outputs": [
    {
     "name": "stdout",
     "output_type": "stream",
     "text": [
      "(27310,)\n(27310, 6)\n"
     ]
    },
    {
     "name": "stdout",
     "output_type": "stream",
     "text": [
      "\r\n\r\n\r\n      Hi Andrea! My name's Cindy. I'm from France and I live in Montpellier, in the South East of this country. I'm Twenty seven years old. Nice to meet you! Cindy\r\n\r\n\n"
     ]
    },
    {
     "data": {
      "text/plain": [
       "['Hi',\n 'Andrea',\n '!',\n 'My',\n 'name',\n \"'s\",\n 'Cindy',\n '.',\n 'I',\n \"'m\",\n 'from',\n 'France',\n 'and',\n 'I',\n 'live',\n 'in',\n 'Montpellier',\n ',',\n 'in',\n 'the',\n 'South',\n 'East',\n 'of',\n 'this',\n 'country',\n '.',\n 'I',\n \"'m\",\n 'Twenty',\n 'seven',\n 'years',\n 'old',\n '.',\n 'Nice',\n 'to',\n 'meet',\n 'you',\n '!',\n 'Cindy']"
      ]
     },
     "execution_count": 199,
     "metadata": {},
     "output_type": "execute_result"
    }
   ],
   "source": [
    "target = english['level1']\n",
    "target.head()\n",
    "print(target.shape)\n",
    "\n",
    "data = english.loc[:, \"fulltext\":\"punct\"]\n",
    "print(data.shape)\n",
    "\n",
    "text = english.loc[:, \"fulltext\"]\n",
    "words_data = text.map(lambda t: word_tokenize(t))\n",
    "\n",
    "\n",
    "print(data.loc[3][\"fulltext\"][0])\n",
    "# sentence = data[:3][\"fulltext\"][0]\n",
    "sentence = data.as_matrix()[27309, 0]\n",
    "print(sentence)\n",
    "words = word_tokenize(sentence)\n",
    "words"
   ]
  },
  {
   "cell_type": "code",
   "execution_count": 203,
   "metadata": {},
   "outputs": [
    {
     "data": {
      "text/plain": [
       "['sixteen',\n 'headphones',\n '.',\n 'also',\n 'there',\n 'are',\n 'thirty',\n 'pens',\n 'and',\n 'fifteen',\n 'pencils',\n '.',\n 'also',\n 'there',\n 'are',\n 'twelve',\n 'desks',\n ',',\n 'fourteen',\n 'chairs',\n 'and',\n 'one',\n 'table',\n '.',\n 'bye']"
      ]
     },
     "execution_count": 203,
     "metadata": {},
     "output_type": "execute_result"
    }
   ],
   "source": [
    "words_data[27304]"
   ]
  },
  {
   "cell_type": "code",
   "execution_count": 121,
   "metadata": {
    "collapsed": false
   },
   "outputs": [],
   "source": [
    "fig = plt.figure()\n",
    "y = english.groupby('level1').sentences.count()\n",
    "plt.bar(y.keys(), y.values)\n",
    "plt.show()"
   ]
  },
  {
   "cell_type": "code",
   "execution_count": 5,
   "metadata": {
    "collapsed": true
   },
   "outputs": [
    {
     "data": {
      "text/plain": [
       "LinearSVC(C=1.0, class_weight=None, dual=True, fit_intercept=True,\n     intercept_scaling=1, loss='squared_hinge', max_iter=1000,\n     multi_class='ovr', penalty='l2', random_state=0, tol=0.0001,\n     verbose=0)"
      ]
     },
     "execution_count": 5,
     "metadata": {},
     "output_type": "execute_result"
    }
   ],
   "source": [
    "# clf = svm.SVC(gamma=0.001, C=100.)\n",
    "from sklearn.svm import LinearSVC\n",
    "\n",
    "clf = LinearSVC(random_state=0) \n",
    "data_cleaned = data.T.dropna().T\n",
    "\n",
    "clf.fit(data_cleaned, target)\n"
   ]
  },
  {
   "cell_type": "code",
   "execution_count": 6,
   "metadata": {
    "collapsed": false
   },
   "outputs": [
    {
     "name": "stdout",
     "output_type": "stream",
     "text": [
      "   sentences  words  letters.all  syllables  punct\n0         16    233         1116        363     32\n"
     ]
    },
    {
     "data": {
      "text/plain": [
       "array(['B1'], dtype=object)"
      ]
     },
     "execution_count": 6,
     "metadata": {},
     "output_type": "execute_result"
    }
   ],
   "source": [
    "data_cleaned.head()\n",
    "\n",
    "print(data_cleaned[:1])\n",
    "clf.predict(data_cleaned[:1])"
   ]
  },
  {
   "cell_type": "code",
   "execution_count": 7,
   "metadata": {
    "collapsed": true
   },
   "outputs": [
    {
     "name": "stdout",
     "output_type": "stream",
     "text": [
      "CPU times: user 1min 28s, sys: 48 ms, total: 1min 29s\nWall time: 1min 50s\n[0.5610247  0.56232839 0.57817649 0.5521978  0.54542125]\n"
     ]
    }
   ],
   "source": [
    "from sklearn.model_selection import cross_val_score\n",
    "%time listerr = cross_val_score(clf, data_cleaned, target, cv=5)\n",
    "print listerr"
   ]
  },
  {
   "cell_type": "code",
   "execution_count": 19,
   "metadata": {
    "collapsed": false
   },
   "outputs": [
    {
     "data": {
      "text/plain": [
       "(5, 5)"
      ]
     },
     "execution_count": 19,
     "metadata": {},
     "output_type": "execute_result"
    }
   ],
   "source": [
    "from sklearn.preprocessing import StandardScaler\n",
    "data_standard = StandardScaler().fit_transform(data_cleaned)\n",
    "corr = np.corrcoef(data_standard.T)\n",
    "corr.shape"
   ]
  },
  {
   "cell_type": "code",
   "execution_count": 20,
   "metadata": {
    "collapsed": false
   },
   "outputs": [
    {
     "data": {
      "text/plain": [
       "array([[1.        , 0.66837766, 0.64175596, 0.64342692, 0.73276522],\n       [0.66837766, 1.        , 0.98341281, 0.98538917, 0.71997432],\n       [0.64175596, 0.98341281, 1.        , 0.99595057, 0.70399435],\n       [0.64342692, 0.98538917, 0.99595057, 1.        , 0.71004385],\n       [0.73276522, 0.71997432, 0.70399435, 0.71004385, 1.        ]])"
      ]
     },
     "execution_count": 20,
     "metadata": {},
     "output_type": "execute_result"
    }
   ],
   "source": [
    "import seaborn as sea\n",
    "sea.heatmap(corr)\n",
    "corr"
   ]
  },
  {
   "cell_type": "code",
   "execution_count": 7,
   "metadata": {},
   "outputs": [],
   "source": [
    ""
   ]
  },
  {
   "cell_type": "code",
   "execution_count": null,
   "metadata": {},
   "outputs": [],
   "source": []
  }
 ],
 "metadata": {
  "kernelspec": {
   "display_name": "Python 2",
   "language": "python",
   "name": "python2"
  },
  "language_info": {
   "codemirror_mode": {
    "name": "ipython",
    "version": 2
   },
   "file_extension": ".py",
   "mimetype": "text/x-python",
   "name": "python",
   "nbconvert_exporter": "python",
   "pygments_lexer": "ipython2",
   "version": "2.7.6"
  }
 },
 "nbformat": 4,
 "nbformat_minor": 0
}
